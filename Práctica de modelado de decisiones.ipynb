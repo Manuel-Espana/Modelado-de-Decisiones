{
 "cells": [
  {
   "cell_type": "markdown",
   "metadata": {},
   "source": [
    "# Práctica de modelado de decisiones\n",
    "España Tzec Jesús Manuel"
   ]
  },
  {
   "cell_type": "markdown",
   "metadata": {},
   "source": [
    "Tenemo el siguiente conjunto de datos sobre los atributos de empleados de aun compañía y buscamos analizar la rotación de empleados. Primero cargamos el conjunto de datos y observamos los primeros datos."
   ]
  },
  {
   "cell_type": "code",
   "execution_count": 1,
   "metadata": {},
   "outputs": [
    {
     "data": {
      "text/html": [
       "<table>\n",
       "<thead><tr><th scope=col>S</th><th scope=col>LPE</th><th scope=col>NP</th><th scope=col>ANH</th><th scope=col>TIC</th><th scope=col>Newborn</th><th scope=col>left</th></tr></thead>\n",
       "<tbody>\n",
       "\t<tr><td>0.38</td><td>0.53</td><td>2   </td><td>157 </td><td>3   </td><td>0   </td><td>1   </td></tr>\n",
       "\t<tr><td>0.80</td><td>0.86</td><td>5   </td><td>262 </td><td>6   </td><td>0   </td><td>1   </td></tr>\n",
       "\t<tr><td>0.11</td><td>0.88</td><td>7   </td><td>272 </td><td>4   </td><td>0   </td><td>1   </td></tr>\n",
       "\t<tr><td>0.72</td><td>0.87</td><td>5   </td><td>223 </td><td>5   </td><td>0   </td><td>1   </td></tr>\n",
       "\t<tr><td>0.37</td><td>0.52</td><td>2   </td><td>159 </td><td>3   </td><td>0   </td><td>1   </td></tr>\n",
       "\t<tr><td>0.41</td><td>0.50</td><td>2   </td><td>153 </td><td>3   </td><td>0   </td><td>1   </td></tr>\n",
       "</tbody>\n",
       "</table>\n"
      ],
      "text/latex": [
       "\\begin{tabular}{r|lllllll}\n",
       " S & LPE & NP & ANH & TIC & Newborn & left\\\\\n",
       "\\hline\n",
       "\t 0.38 & 0.53 & 2    & 157  & 3    & 0    & 1   \\\\\n",
       "\t 0.80 & 0.86 & 5    & 262  & 6    & 0    & 1   \\\\\n",
       "\t 0.11 & 0.88 & 7    & 272  & 4    & 0    & 1   \\\\\n",
       "\t 0.72 & 0.87 & 5    & 223  & 5    & 0    & 1   \\\\\n",
       "\t 0.37 & 0.52 & 2    & 159  & 3    & 0    & 1   \\\\\n",
       "\t 0.41 & 0.50 & 2    & 153  & 3    & 0    & 1   \\\\\n",
       "\\end{tabular}\n"
      ],
      "text/markdown": [
       "\n",
       "S | LPE | NP | ANH | TIC | Newborn | left | \n",
       "|---|---|---|---|---|---|\n",
       "| 0.38 | 0.53 | 2    | 157  | 3    | 0    | 1    | \n",
       "| 0.80 | 0.86 | 5    | 262  | 6    | 0    | 1    | \n",
       "| 0.11 | 0.88 | 7    | 272  | 4    | 0    | 1    | \n",
       "| 0.72 | 0.87 | 5    | 223  | 5    | 0    | 1    | \n",
       "| 0.37 | 0.52 | 2    | 159  | 3    | 0    | 1    | \n",
       "| 0.41 | 0.50 | 2    | 153  | 3    | 0    | 1    | \n",
       "\n",
       "\n"
      ],
      "text/plain": [
       "  S    LPE  NP ANH TIC Newborn left\n",
       "1 0.38 0.53 2  157 3   0       1   \n",
       "2 0.80 0.86 5  262 6   0       1   \n",
       "3 0.11 0.88 7  272 4   0       1   \n",
       "4 0.72 0.87 5  223 5   0       1   \n",
       "5 0.37 0.52 2  159 3   0       1   \n",
       "6 0.41 0.50 2  153 3   0       1   "
      ]
     },
     "metadata": {},
     "output_type": "display_data"
    }
   ],
   "source": [
    "dat <- read.csv('HR.csv')\n",
    "head(dat)"
   ]
  },
  {
   "cell_type": "markdown",
   "metadata": {},
   "source": [
    "Utilizamos la regresión logística que nos ayuda para crear un modelo para predecir este fenómeno. Para eo utilizaremos la variables S (satisfación), LPE (evaluación del último proyecto), NP (número de proyectos realizados por el empleado en el último año), ANH (promedo de horas trabajadas semanalmente en el último año), TIC (el empleado ha sido padre/madre en el último año) como variables predictoras."
   ]
  },
  {
   "cell_type": "code",
   "execution_count": 2,
   "metadata": {
    "scrolled": true
   },
   "outputs": [
    {
     "data": {
      "text/plain": [
       "\n",
       "Call:\n",
       "glm(formula = left ~ S + LPE + NP + ANH + TIC + Newborn, family = \"binomial\", \n",
       "    data = dat)\n",
       "\n",
       "Deviance Residuals: \n",
       "    Min       1Q   Median       3Q      Max  \n",
       "-2.1727  -0.5410  -0.3535  -0.1994   3.0949  \n",
       "\n",
       "Coefficients:\n",
       "              Estimate Std. Error z value Pr(>|z|)    \n",
       "(Intercept) -1.2412448  0.1601334  -7.751 9.09e-15 ***\n",
       "S           -3.8163201  0.1207448 -31.607  < 2e-16 ***\n",
       "LPE          0.5044011  0.1809102   2.788   0.0053 ** \n",
       "NP          -0.3591952  0.0264709 -13.569  < 2e-16 ***\n",
       "ANH          0.0037840  0.0006237   6.067 1.30e-09 ***\n",
       "TIC          0.6187913  0.0271161  22.820  < 2e-16 ***\n",
       "Newborn     -1.4851023  0.1128772 -13.157  < 2e-16 ***\n",
       "---\n",
       "Signif. codes:  0 '***' 0.001 '**' 0.01 '*' 0.05 '.' 0.1 ' ' 1\n",
       "\n",
       "(Dispersion parameter for binomial family taken to be 1)\n",
       "\n",
       "    Null deviance: 10813.5  on 11999  degrees of freedom\n",
       "Residual deviance:  8508.9  on 11993  degrees of freedom\n",
       "AIC: 8522.9\n",
       "\n",
       "Number of Fisher Scoring iterations: 6\n"
      ]
     },
     "metadata": {},
     "output_type": "display_data"
    }
   ],
   "source": [
    "reg <- glm(left ~ S+LPE+NP+ANH+TIC+Newborn, data=dat, family=\"binomial\")\n",
    "summary(reg)"
   ]
  },
  {
   "cell_type": "code",
   "execution_count": 3,
   "metadata": {
    "scrolled": true
   },
   "outputs": [
    {
     "data": {
      "text/html": [
       "<table>\n",
       "<thead><tr><th></th><th scope=col>Estimate</th><th scope=col>Std. Error</th><th scope=col>z value</th><th scope=col>Pr(&gt;|z|)</th></tr></thead>\n",
       "<tbody>\n",
       "\t<tr><th scope=row>(Intercept)</th><td>-1.241244789 </td><td>0.1601334304 </td><td> -7.751316   </td><td> 9.094520e-15</td></tr>\n",
       "\t<tr><th scope=row>S</th><td>-3.816320087 </td><td>0.1207447652 </td><td>-31.606506   </td><td>3.005329e-219</td></tr>\n",
       "\t<tr><th scope=row>LPE</th><td> 0.504401128 </td><td>0.1809101977 </td><td>  2.788130   </td><td> 5.301328e-03</td></tr>\n",
       "\t<tr><th scope=row>NP</th><td>-0.359195194 </td><td>0.0264708926 </td><td>-13.569440   </td><td> 6.078448e-42</td></tr>\n",
       "\t<tr><th scope=row>ANH</th><td> 0.003783999 </td><td>0.0006236833 </td><td>  6.067180   </td><td> 1.301754e-09</td></tr>\n",
       "\t<tr><th scope=row>TIC</th><td> 0.618791320 </td><td>0.0271160536 </td><td> 22.820110   </td><td>2.895723e-115</td></tr>\n",
       "\t<tr><th scope=row>Newborn</th><td>-1.485102289 </td><td>0.1128772430 </td><td>-13.156791   </td><td> 1.555535e-39</td></tr>\n",
       "</tbody>\n",
       "</table>\n"
      ],
      "text/latex": [
       "\\begin{tabular}{r|llll}\n",
       "  & Estimate & Std. Error & z value & Pr(>\\textbar{}z\\textbar{})\\\\\n",
       "\\hline\n",
       "\t(Intercept) & -1.241244789  & 0.1601334304  &  -7.751316    &  9.094520e-15\\\\\n",
       "\tS & -3.816320087  & 0.1207447652  & -31.606506    & 3.005329e-219\\\\\n",
       "\tLPE &  0.504401128  & 0.1809101977  &   2.788130    &  5.301328e-03\\\\\n",
       "\tNP & -0.359195194  & 0.0264708926  & -13.569440    &  6.078448e-42\\\\\n",
       "\tANH &  0.003783999  & 0.0006236833  &   6.067180    &  1.301754e-09\\\\\n",
       "\tTIC &  0.618791320  & 0.0271160536  &  22.820110    & 2.895723e-115\\\\\n",
       "\tNewborn & -1.485102289  & 0.1128772430  & -13.156791    &  1.555535e-39\\\\\n",
       "\\end{tabular}\n"
      ],
      "text/markdown": [
       "\n",
       "| <!--/--> | Estimate | Std. Error | z value | Pr(>|z|) | \n",
       "|---|---|---|---|---|---|---|\n",
       "| (Intercept) | -1.241244789  | 0.1601334304  |  -7.751316    |  9.094520e-15 | \n",
       "| S | -3.816320087  | 0.1207447652  | -31.606506    | 3.005329e-219 | \n",
       "| LPE |  0.504401128  | 0.1809101977  |   2.788130    |  5.301328e-03 | \n",
       "| NP | -0.359195194  | 0.0264708926  | -13.569440    |  6.078448e-42 | \n",
       "| ANH |  0.003783999  | 0.0006236833  |   6.067180    |  1.301754e-09 | \n",
       "| TIC |  0.618791320  | 0.0271160536  |  22.820110    | 2.895723e-115 | \n",
       "| Newborn | -1.485102289  | 0.1128772430  | -13.156791    |  1.555535e-39 | \n",
       "\n",
       "\n"
      ],
      "text/plain": [
       "            Estimate     Std. Error   z value    Pr(>|z|)     \n",
       "(Intercept) -1.241244789 0.1601334304  -7.751316  9.094520e-15\n",
       "S           -3.816320087 0.1207447652 -31.606506 3.005329e-219\n",
       "LPE          0.504401128 0.1809101977   2.788130  5.301328e-03\n",
       "NP          -0.359195194 0.0264708926 -13.569440  6.078448e-42\n",
       "ANH          0.003783999 0.0006236833   6.067180  1.301754e-09\n",
       "TIC          0.618791320 0.0271160536  22.820110 2.895723e-115\n",
       "Newborn     -1.485102289 0.1128772430 -13.156791  1.555535e-39"
      ]
     },
     "metadata": {},
     "output_type": "display_data"
    }
   ],
   "source": [
    "coef(summary(reg))"
   ]
  },
  {
   "cell_type": "markdown",
   "metadata": {},
   "source": [
    "Obervamos que todas las variables son significativas para el modelo de la rotación de empleados, ya que todos los p-valores no sobrepasan 0.05. Además todos los coeficientes son positivos por lo que, si culaquiera de las variables llega a aumentar, se vería un aumento en la probabilidad de abandonar la empresa."
   ]
  },
  {
   "cell_type": "code",
   "execution_count": 4,
   "metadata": {},
   "outputs": [
    {
     "data": {
      "text/html": [
       "<table>\n",
       "<thead><tr><th></th><th scope=col>Estimate</th><th scope=col>Std. Error</th><th scope=col>z value</th><th scope=col>Pr(&gt;|z|)</th><th scope=col>factor_momios</th></tr></thead>\n",
       "<tbody>\n",
       "\t<tr><th scope=row>(Intercept)</th><td>-1.241244789 </td><td>0.1601334304 </td><td> -7.751316   </td><td> 9.094520e-15</td><td>0.28902422   </td></tr>\n",
       "\t<tr><th scope=row>S</th><td>-3.816320087 </td><td>0.1207447652 </td><td>-31.606506   </td><td>3.005329e-219</td><td>0.02200864   </td></tr>\n",
       "\t<tr><th scope=row>LPE</th><td> 0.504401128 </td><td>0.1809101977 </td><td>  2.788130   </td><td> 5.301328e-03</td><td>1.65599350   </td></tr>\n",
       "\t<tr><th scope=row>NP</th><td>-0.359195194 </td><td>0.0264708926 </td><td>-13.569440   </td><td> 6.078448e-42</td><td>0.69823805   </td></tr>\n",
       "\t<tr><th scope=row>ANH</th><td> 0.003783999 </td><td>0.0006236833 </td><td>  6.067180   </td><td> 1.301754e-09</td><td>1.00379117   </td></tr>\n",
       "\t<tr><th scope=row>TIC</th><td> 0.618791320 </td><td>0.0271160536 </td><td> 22.820110   </td><td>2.895723e-115</td><td>1.85668255   </td></tr>\n",
       "\t<tr><th scope=row>Newborn</th><td>-1.485102289 </td><td>0.1128772430 </td><td>-13.156791   </td><td> 1.555535e-39</td><td>0.22647917   </td></tr>\n",
       "</tbody>\n",
       "</table>\n"
      ],
      "text/latex": [
       "\\begin{tabular}{r|lllll}\n",
       "  & Estimate & Std. Error & z value & Pr(>\\textbar{}z\\textbar{}) & factor\\_momios\\\\\n",
       "\\hline\n",
       "\t(Intercept) & -1.241244789  & 0.1601334304  &  -7.751316    &  9.094520e-15 & 0.28902422   \\\\\n",
       "\tS & -3.816320087  & 0.1207447652  & -31.606506    & 3.005329e-219 & 0.02200864   \\\\\n",
       "\tLPE &  0.504401128  & 0.1809101977  &   2.788130    &  5.301328e-03 & 1.65599350   \\\\\n",
       "\tNP & -0.359195194  & 0.0264708926  & -13.569440    &  6.078448e-42 & 0.69823805   \\\\\n",
       "\tANH &  0.003783999  & 0.0006236833  &   6.067180    &  1.301754e-09 & 1.00379117   \\\\\n",
       "\tTIC &  0.618791320  & 0.0271160536  &  22.820110    & 2.895723e-115 & 1.85668255   \\\\\n",
       "\tNewborn & -1.485102289  & 0.1128772430  & -13.156791    &  1.555535e-39 & 0.22647917   \\\\\n",
       "\\end{tabular}\n"
      ],
      "text/markdown": [
       "\n",
       "| <!--/--> | Estimate | Std. Error | z value | Pr(>|z|) | factor_momios | \n",
       "|---|---|---|---|---|---|---|\n",
       "| (Intercept) | -1.241244789  | 0.1601334304  |  -7.751316    |  9.094520e-15 | 0.28902422    | \n",
       "| S | -3.816320087  | 0.1207447652  | -31.606506    | 3.005329e-219 | 0.02200864    | \n",
       "| LPE |  0.504401128  | 0.1809101977  |   2.788130    |  5.301328e-03 | 1.65599350    | \n",
       "| NP | -0.359195194  | 0.0264708926  | -13.569440    |  6.078448e-42 | 0.69823805    | \n",
       "| ANH |  0.003783999  | 0.0006236833  |   6.067180    |  1.301754e-09 | 1.00379117    | \n",
       "| TIC |  0.618791320  | 0.0271160536  |  22.820110    | 2.895723e-115 | 1.85668255    | \n",
       "| Newborn | -1.485102289  | 0.1128772430  | -13.156791    |  1.555535e-39 | 0.22647917    | \n",
       "\n",
       "\n"
      ],
      "text/plain": [
       "            Estimate     Std. Error   z value    Pr(>|z|)      factor_momios\n",
       "(Intercept) -1.241244789 0.1601334304  -7.751316  9.094520e-15 0.28902422   \n",
       "S           -3.816320087 0.1207447652 -31.606506 3.005329e-219 0.02200864   \n",
       "LPE          0.504401128 0.1809101977   2.788130  5.301328e-03 1.65599350   \n",
       "NP          -0.359195194 0.0264708926 -13.569440  6.078448e-42 0.69823805   \n",
       "ANH          0.003783999 0.0006236833   6.067180  1.301754e-09 1.00379117   \n",
       "TIC          0.618791320 0.0271160536  22.820110 2.895723e-115 1.85668255   \n",
       "Newborn     -1.485102289 0.1128772430 -13.156791  1.555535e-39 0.22647917   "
      ]
     },
     "metadata": {},
     "output_type": "display_data"
    }
   ],
   "source": [
    "df_coeff <- as.data.frame(coef(summary(reg)))\n",
    "df_coeff$factor_momios <- exp(df_coeff$Estimate)\n",
    "df_coeff"
   ]
  },
  {
   "cell_type": "markdown",
   "metadata": {},
   "source": [
    "Una vez que tenemos las predicciones de la rotación de empleados, podemo ordenar a los empleados de acuerdo a su probabilidad de dejar la empresa, así los empleados que tengan una probabilidad muy alta, se le puede dar un seguimiento y evitar que se vaya de la empresa."
   ]
  },
  {
   "cell_type": "code",
   "execution_count": 5,
   "metadata": {
    "scrolled": true
   },
   "outputs": [
    {
     "data": {
      "text/html": [
       "<table>\n",
       "<thead><tr><th></th><th scope=col>S</th><th scope=col>LPE</th><th scope=col>NP</th><th scope=col>ANH</th><th scope=col>TIC</th><th scope=col>Newborn</th><th scope=col>left</th><th scope=col>prob_compra</th></tr></thead>\n",
       "<tbody>\n",
       "\t<tr><th scope=row>5656</th><td>0.17     </td><td>0.86     </td><td>3        </td><td>286      </td><td>6        </td><td>0        </td><td>0        </td><td>0.9056081</td></tr>\n",
       "\t<tr><th scope=row>9417</th><td>0.13     </td><td>0.62     </td><td>3        </td><td>264      </td><td>6        </td><td>0        </td><td>0        </td><td>0.9010994</td></tr>\n",
       "\t<tr><th scope=row>9418</th><td>0.14     </td><td>0.89     </td><td>3        </td><td>212      </td><td>6        </td><td>0        </td><td>0        </td><td>0.8919444</td></tr>\n",
       "\t<tr><th scope=row>4087</th><td>0.16     </td><td>0.84     </td><td>3        </td><td>238      </td><td>6        </td><td>0        </td><td>0        </td><td>0.8916392</td></tr>\n",
       "\t<tr><th scope=row>8364</th><td>0.12     </td><td>0.59     </td><td>3        </td><td>229      </td><td>6        </td><td>0        </td><td>0        </td><td>0.8909121</td></tr>\n",
       "\t<tr><th scope=row>4052</th><td>0.15     </td><td>0.89     </td><td>3        </td><td>219      </td><td>6        </td><td>0        </td><td>0        </td><td>0.8908140</td></tr>\n",
       "\t<tr><th scope=row>9867</th><td>0.12     </td><td>0.81     </td><td>4        </td><td>287      </td><td>6        </td><td>0        </td><td>0        </td><td>0.8880859</td></tr>\n",
       "\t<tr><th scope=row>11411</th><td>0.17     </td><td>0.78     </td><td>3        </td><td>239      </td><td>6        </td><td>0        </td><td>0        </td><td>0.8852335</td></tr>\n",
       "\t<tr><th scope=row>4224</th><td>0.16     </td><td>0.51     </td><td>3        </td><td>262      </td><td>6        </td><td>0        </td><td>0        </td><td>0.8841119</td></tr>\n",
       "\t<tr><th scope=row>2575</th><td>0.26     </td><td>0.67     </td><td>2        </td><td>242      </td><td>6        </td><td>0        </td><td>0        </td><td>0.8823159</td></tr>\n",
       "\t<tr><th scope=row>8750</th><td>0.15     </td><td>0.84     </td><td>3        </td><td>201      </td><td>6        </td><td>0        </td><td>0        </td><td>0.8813995</td></tr>\n",
       "\t<tr><th scope=row>5968</th><td>0.18     </td><td>0.39     </td><td>2        </td><td>177      </td><td>6        </td><td>0        </td><td>0        </td><td>0.8735435</td></tr>\n",
       "\t<tr><th scope=row>10955</th><td>0.16     </td><td>0.94     </td><td>4        </td><td>261      </td><td>6        </td><td>0        </td><td>0        </td><td>0.8682841</td></tr>\n",
       "\t<tr><th scope=row>4270</th><td>0.21     </td><td>0.72     </td><td>3        </td><td>245      </td><td>6        </td><td>0        </td><td>0        </td><td>0.8679254</td></tr>\n",
       "\t<tr><th scope=row>4699</th><td>0.16     </td><td>0.78     </td><td>4        </td><td>280      </td><td>6        </td><td>0        </td><td>0        </td><td>0.8672735</td></tr>\n",
       "\t<tr><th scope=row>9220</th><td>0.24     </td><td>0.60     </td><td>2        </td><td>194      </td><td>6        </td><td>0        </td><td>0        </td><td>0.8669126</td></tr>\n",
       "\t<tr><th scope=row>7821</th><td>0.12     </td><td>0.84     </td><td>4        </td><td>218      </td><td>6        </td><td>0        </td><td>0        </td><td>0.8612096</td></tr>\n",
       "\t<tr><th scope=row>5652</th><td>0.15     </td><td>0.76     </td><td>4        </td><td>255      </td><td>6        </td><td>0        </td><td>0        </td><td>0.8594270</td></tr>\n",
       "\t<tr><th scope=row>10863</th><td>0.20     </td><td>0.98     </td><td>3        </td><td>180      </td><td>6        </td><td>0        </td><td>0        </td><td>0.8588882</td></tr>\n",
       "\t<tr><th scope=row>11995</th><td>0.22     </td><td>0.94     </td><td>3        </td><td>193      </td><td>6        </td><td>0        </td><td>0        </td><td>0.8530563</td></tr>\n",
       "\t<tr><th scope=row>7206</th><td>0.13     </td><td>0.65     </td><td>2        </td><td>209      </td><td>5        </td><td>0        </td><td>0        </td><td>0.8528230</td></tr>\n",
       "\t<tr><th scope=row>5869</th><td>0.18     </td><td>0.95     </td><td>4        </td><td>241      </td><td>6        </td><td>0        </td><td>0        </td><td>0.8505485</td></tr>\n",
       "\t<tr><th scope=row>3560</th><td>0.15     </td><td>0.52     </td><td>4        </td><td>265      </td><td>6        </td><td>0        </td><td>0        </td><td>0.8490696</td></tr>\n",
       "\t<tr><th scope=row>4348</th><td>0.14     </td><td>0.51     </td><td>4        </td><td>253      </td><td>6        </td><td>0        </td><td>0        </td><td>0.8474881</td></tr>\n",
       "\t<tr><th scope=row>2569</th><td>0.21     </td><td>0.90     </td><td>4        </td><td>271      </td><td>6        </td><td>0        </td><td>0        </td><td>0.8471887</td></tr>\n",
       "\t<tr><th scope=row>9879</th><td>0.23     </td><td>0.50     </td><td>2        </td><td>150      </td><td>6        </td><td>0        </td><td>0        </td><td>0.8449015</td></tr>\n",
       "\t<tr><th scope=row>2367</th><td>0.22     </td><td>0.74     </td><td>3        </td><td>199      </td><td>6        </td><td>0        </td><td>0        </td><td>0.8429839</td></tr>\n",
       "\t<tr><th scope=row>10653</th><td>0.19     </td><td>0.63     </td><td>4        </td><td>278      </td><td>6        </td><td>0        </td><td>0        </td><td>0.8428179</td></tr>\n",
       "\t<tr><th scope=row>6715</th><td>0.19     </td><td>0.69     </td><td>4        </td><td>269      </td><td>6        </td><td>0        </td><td>0        </td><td>0.8423149</td></tr>\n",
       "\t<tr><th scope=row>7800</th><td>0.17     </td><td>0.50     </td><td>4        </td><td>274      </td><td>6        </td><td>0        </td><td>0        </td><td>0.8422366</td></tr>\n",
       "\t<tr><th scope=row>...</th><td>...</td><td>...</td><td>...</td><td>...</td><td>...</td><td>...</td><td>...</td><td>...</td></tr>\n",
       "\t<tr><th scope=row>10281</th><td>0.83       </td><td>0.67       </td><td>5          </td><td>132        </td><td>2          </td><td>1          </td><td>0          </td><td>0.003630132</td></tr>\n",
       "\t<tr><th scope=row>4310</th><td>0.89       </td><td>0.71       </td><td>5          </td><td>182        </td><td>2          </td><td>1          </td><td>0          </td><td>0.003559914</td></tr>\n",
       "\t<tr><th scope=row>7699</th><td>0.96       </td><td>0.60       </td><td>4          </td><td>170        </td><td>2          </td><td>1          </td><td>0          </td><td>0.003528696</td></tr>\n",
       "\t<tr><th scope=row>9072</th><td>0.96       </td><td>0.74       </td><td>5          </td><td>244        </td><td>2          </td><td>1          </td><td>0          </td><td>0.003498713</td></tr>\n",
       "\t<tr><th scope=row>2695</th><td>0.98       </td><td>0.53       </td><td>4          </td><td>192        </td><td>2          </td><td>1          </td><td>0          </td><td>0.003430276</td></tr>\n",
       "\t<tr><th scope=row>11108</th><td>0.87       </td><td>0.60       </td><td>5          </td><td>165        </td><td>2          </td><td>1          </td><td>0          </td><td>0.003408942</td></tr>\n",
       "\t<tr><th scope=row>9930</th><td>0.92       </td><td>0.58       </td><td>5          </td><td>205        </td><td>2          </td><td>1          </td><td>0          </td><td>0.003244700</td></tr>\n",
       "\t<tr><th scope=row>8529</th><td>0.98       </td><td>0.62       </td><td>5          </td><td>260        </td><td>2          </td><td>1          </td><td>0          </td><td>0.003242491</td></tr>\n",
       "\t<tr><th scope=row>6709</th><td>0.79       </td><td>0.97       </td><td>6          </td><td>113        </td><td>2          </td><td>1          </td><td>0          </td><td>0.003198188</td></tr>\n",
       "\t<tr><th scope=row>11931</th><td>0.97       </td><td>0.92       </td><td>6          </td><td>137        </td><td>3          </td><td>1          </td><td>0          </td><td>0.003190068</td></tr>\n",
       "\t<tr><th scope=row>3032</th><td>0.98       </td><td>0.80       </td><td>4          </td><td>134        </td><td>2          </td><td>1          </td><td>0          </td><td>0.003157028</td></tr>\n",
       "\t<tr><th scope=row>4477</th><td>0.86       </td><td>0.60       </td><td>5          </td><td>134        </td><td>2          </td><td>1          </td><td>0          </td><td>0.003150373</td></tr>\n",
       "\t<tr><th scope=row>4267</th><td>0.92       </td><td>0.56       </td><td>5          </td><td>197        </td><td>2          </td><td>1          </td><td>0          </td><td>0.003116751</td></tr>\n",
       "\t<tr><th scope=row>3714</th><td>0.98       </td><td>0.77       </td><td>5          </td><td>223        </td><td>2          </td><td>1          </td><td>0          </td><td>0.003041030</td></tr>\n",
       "\t<tr><th scope=row>3790</th><td>0.99       </td><td>0.62       </td><td>4          </td><td>140        </td><td>2          </td><td>1          </td><td>0          </td><td>0.002839699</td></tr>\n",
       "\t<tr><th scope=row>8565</th><td>0.99       </td><td>0.64       </td><td>4          </td><td>135        </td><td>2          </td><td>1          </td><td>0          </td><td>0.002814799</td></tr>\n",
       "\t<tr><th scope=row>8470</th><td>0.92       </td><td>0.49       </td><td>5          </td><td>178        </td><td>2          </td><td>1          </td><td>0          </td><td>0.002800797</td></tr>\n",
       "\t<tr><th scope=row>5645</th><td>0.97       </td><td>0.70       </td><td>5          </td><td>195        </td><td>2          </td><td>1          </td><td>0          </td><td>0.002743947</td></tr>\n",
       "\t<tr><th scope=row>4189</th><td>0.96       </td><td>0.70       </td><td>5          </td><td>184        </td><td>2          </td><td>1          </td><td>0          </td><td>0.002734493</td></tr>\n",
       "\t<tr><th scope=row>9866</th><td>0.96       </td><td>0.51       </td><td>5          </td><td>205        </td><td>2          </td><td>1          </td><td>0          </td><td>0.002690207</td></tr>\n",
       "\t<tr><th scope=row>8310</th><td>0.97       </td><td>0.63       </td><td>5          </td><td>199        </td><td>2          </td><td>1          </td><td>0          </td><td>0.002689297</td></tr>\n",
       "\t<tr><th scope=row>5510</th><td>0.96       </td><td>0.93       </td><td>5          </td><td>141        </td><td>2          </td><td>1          </td><td>0          </td><td>0.002610054</td></tr>\n",
       "\t<tr><th scope=row>7849</th><td>0.94       </td><td>0.73       </td><td>5          </td><td>142        </td><td>2          </td><td>1          </td><td>0          </td><td>0.002556540</td></tr>\n",
       "\t<tr><th scope=row>10812</th><td>0.97       </td><td>0.93       </td><td>5          </td><td>137        </td><td>2          </td><td>1          </td><td>0          </td><td>0.002474918</td></tr>\n",
       "\t<tr><th scope=row>10183</th><td>0.91       </td><td>0.70       </td><td>6          </td><td>201        </td><td>2          </td><td>1          </td><td>0          </td><td>0.002464934</td></tr>\n",
       "\t<tr><th scope=row>4446</th><td>0.91       </td><td>0.91       </td><td>6          </td><td>167        </td><td>2          </td><td>1          </td><td>0          </td><td>0.002409667</td></tr>\n",
       "\t<tr><th scope=row>9631</th><td>0.95       </td><td>0.65       </td><td>5          </td><td>142        </td><td>2          </td><td>1          </td><td>0          </td><td>0.002363947</td></tr>\n",
       "\t<tr><th scope=row>2387</th><td>0.84       </td><td>0.51       </td><td>6          </td><td>141        </td><td>2          </td><td>1          </td><td>0          </td><td>0.002331624</td></tr>\n",
       "\t<tr><th scope=row>2898</th><td>0.97       </td><td>0.58       </td><td>5          </td><td>156        </td><td>2          </td><td>1          </td><td>0          </td><td>0.002229570</td></tr>\n",
       "\t<tr><th scope=row>2280</th><td>0.96       </td><td>0.45       </td><td>6          </td><td>232        </td><td>2          </td><td>1          </td><td>0          </td><td>0.002019801</td></tr>\n",
       "</tbody>\n",
       "</table>\n"
      ],
      "text/latex": [
       "\\begin{tabular}{r|llllllll}\n",
       "  & S & LPE & NP & ANH & TIC & Newborn & left & prob\\_compra\\\\\n",
       "\\hline\n",
       "\t5656 & 0.17      & 0.86      & 3         & 286       & 6         & 0         & 0         & 0.9056081\\\\\n",
       "\t9417 & 0.13      & 0.62      & 3         & 264       & 6         & 0         & 0         & 0.9010994\\\\\n",
       "\t9418 & 0.14      & 0.89      & 3         & 212       & 6         & 0         & 0         & 0.8919444\\\\\n",
       "\t4087 & 0.16      & 0.84      & 3         & 238       & 6         & 0         & 0         & 0.8916392\\\\\n",
       "\t8364 & 0.12      & 0.59      & 3         & 229       & 6         & 0         & 0         & 0.8909121\\\\\n",
       "\t4052 & 0.15      & 0.89      & 3         & 219       & 6         & 0         & 0         & 0.8908140\\\\\n",
       "\t9867 & 0.12      & 0.81      & 4         & 287       & 6         & 0         & 0         & 0.8880859\\\\\n",
       "\t11411 & 0.17      & 0.78      & 3         & 239       & 6         & 0         & 0         & 0.8852335\\\\\n",
       "\t4224 & 0.16      & 0.51      & 3         & 262       & 6         & 0         & 0         & 0.8841119\\\\\n",
       "\t2575 & 0.26      & 0.67      & 2         & 242       & 6         & 0         & 0         & 0.8823159\\\\\n",
       "\t8750 & 0.15      & 0.84      & 3         & 201       & 6         & 0         & 0         & 0.8813995\\\\\n",
       "\t5968 & 0.18      & 0.39      & 2         & 177       & 6         & 0         & 0         & 0.8735435\\\\\n",
       "\t10955 & 0.16      & 0.94      & 4         & 261       & 6         & 0         & 0         & 0.8682841\\\\\n",
       "\t4270 & 0.21      & 0.72      & 3         & 245       & 6         & 0         & 0         & 0.8679254\\\\\n",
       "\t4699 & 0.16      & 0.78      & 4         & 280       & 6         & 0         & 0         & 0.8672735\\\\\n",
       "\t9220 & 0.24      & 0.60      & 2         & 194       & 6         & 0         & 0         & 0.8669126\\\\\n",
       "\t7821 & 0.12      & 0.84      & 4         & 218       & 6         & 0         & 0         & 0.8612096\\\\\n",
       "\t5652 & 0.15      & 0.76      & 4         & 255       & 6         & 0         & 0         & 0.8594270\\\\\n",
       "\t10863 & 0.20      & 0.98      & 3         & 180       & 6         & 0         & 0         & 0.8588882\\\\\n",
       "\t11995 & 0.22      & 0.94      & 3         & 193       & 6         & 0         & 0         & 0.8530563\\\\\n",
       "\t7206 & 0.13      & 0.65      & 2         & 209       & 5         & 0         & 0         & 0.8528230\\\\\n",
       "\t5869 & 0.18      & 0.95      & 4         & 241       & 6         & 0         & 0         & 0.8505485\\\\\n",
       "\t3560 & 0.15      & 0.52      & 4         & 265       & 6         & 0         & 0         & 0.8490696\\\\\n",
       "\t4348 & 0.14      & 0.51      & 4         & 253       & 6         & 0         & 0         & 0.8474881\\\\\n",
       "\t2569 & 0.21      & 0.90      & 4         & 271       & 6         & 0         & 0         & 0.8471887\\\\\n",
       "\t9879 & 0.23      & 0.50      & 2         & 150       & 6         & 0         & 0         & 0.8449015\\\\\n",
       "\t2367 & 0.22      & 0.74      & 3         & 199       & 6         & 0         & 0         & 0.8429839\\\\\n",
       "\t10653 & 0.19      & 0.63      & 4         & 278       & 6         & 0         & 0         & 0.8428179\\\\\n",
       "\t6715 & 0.19      & 0.69      & 4         & 269       & 6         & 0         & 0         & 0.8423149\\\\\n",
       "\t7800 & 0.17      & 0.50      & 4         & 274       & 6         & 0         & 0         & 0.8422366\\\\\n",
       "\t... & ... & ... & ... & ... & ... & ... & ... & ...\\\\\n",
       "\t10281 & 0.83        & 0.67        & 5           & 132         & 2           & 1           & 0           & 0.003630132\\\\\n",
       "\t4310 & 0.89        & 0.71        & 5           & 182         & 2           & 1           & 0           & 0.003559914\\\\\n",
       "\t7699 & 0.96        & 0.60        & 4           & 170         & 2           & 1           & 0           & 0.003528696\\\\\n",
       "\t9072 & 0.96        & 0.74        & 5           & 244         & 2           & 1           & 0           & 0.003498713\\\\\n",
       "\t2695 & 0.98        & 0.53        & 4           & 192         & 2           & 1           & 0           & 0.003430276\\\\\n",
       "\t11108 & 0.87        & 0.60        & 5           & 165         & 2           & 1           & 0           & 0.003408942\\\\\n",
       "\t9930 & 0.92        & 0.58        & 5           & 205         & 2           & 1           & 0           & 0.003244700\\\\\n",
       "\t8529 & 0.98        & 0.62        & 5           & 260         & 2           & 1           & 0           & 0.003242491\\\\\n",
       "\t6709 & 0.79        & 0.97        & 6           & 113         & 2           & 1           & 0           & 0.003198188\\\\\n",
       "\t11931 & 0.97        & 0.92        & 6           & 137         & 3           & 1           & 0           & 0.003190068\\\\\n",
       "\t3032 & 0.98        & 0.80        & 4           & 134         & 2           & 1           & 0           & 0.003157028\\\\\n",
       "\t4477 & 0.86        & 0.60        & 5           & 134         & 2           & 1           & 0           & 0.003150373\\\\\n",
       "\t4267 & 0.92        & 0.56        & 5           & 197         & 2           & 1           & 0           & 0.003116751\\\\\n",
       "\t3714 & 0.98        & 0.77        & 5           & 223         & 2           & 1           & 0           & 0.003041030\\\\\n",
       "\t3790 & 0.99        & 0.62        & 4           & 140         & 2           & 1           & 0           & 0.002839699\\\\\n",
       "\t8565 & 0.99        & 0.64        & 4           & 135         & 2           & 1           & 0           & 0.002814799\\\\\n",
       "\t8470 & 0.92        & 0.49        & 5           & 178         & 2           & 1           & 0           & 0.002800797\\\\\n",
       "\t5645 & 0.97        & 0.70        & 5           & 195         & 2           & 1           & 0           & 0.002743947\\\\\n",
       "\t4189 & 0.96        & 0.70        & 5           & 184         & 2           & 1           & 0           & 0.002734493\\\\\n",
       "\t9866 & 0.96        & 0.51        & 5           & 205         & 2           & 1           & 0           & 0.002690207\\\\\n",
       "\t8310 & 0.97        & 0.63        & 5           & 199         & 2           & 1           & 0           & 0.002689297\\\\\n",
       "\t5510 & 0.96        & 0.93        & 5           & 141         & 2           & 1           & 0           & 0.002610054\\\\\n",
       "\t7849 & 0.94        & 0.73        & 5           & 142         & 2           & 1           & 0           & 0.002556540\\\\\n",
       "\t10812 & 0.97        & 0.93        & 5           & 137         & 2           & 1           & 0           & 0.002474918\\\\\n",
       "\t10183 & 0.91        & 0.70        & 6           & 201         & 2           & 1           & 0           & 0.002464934\\\\\n",
       "\t4446 & 0.91        & 0.91        & 6           & 167         & 2           & 1           & 0           & 0.002409667\\\\\n",
       "\t9631 & 0.95        & 0.65        & 5           & 142         & 2           & 1           & 0           & 0.002363947\\\\\n",
       "\t2387 & 0.84        & 0.51        & 6           & 141         & 2           & 1           & 0           & 0.002331624\\\\\n",
       "\t2898 & 0.97        & 0.58        & 5           & 156         & 2           & 1           & 0           & 0.002229570\\\\\n",
       "\t2280 & 0.96        & 0.45        & 6           & 232         & 2           & 1           & 0           & 0.002019801\\\\\n",
       "\\end{tabular}\n"
      ],
      "text/markdown": [
       "\n",
       "| <!--/--> | S | LPE | NP | ANH | TIC | Newborn | left | prob_compra | \n",
       "|---|---|---|---|---|---|---|---|---|---|---|---|---|---|---|---|---|---|---|---|---|---|---|---|---|---|---|---|---|---|---|---|---|---|---|---|---|---|---|---|---|---|---|---|---|---|---|---|---|---|---|---|---|---|---|---|---|---|---|---|---|\n",
       "| 5656 | 0.17      | 0.86      | 3         | 286       | 6         | 0         | 0         | 0.9056081 | \n",
       "| 9417 | 0.13      | 0.62      | 3         | 264       | 6         | 0         | 0         | 0.9010994 | \n",
       "| 9418 | 0.14      | 0.89      | 3         | 212       | 6         | 0         | 0         | 0.8919444 | \n",
       "| 4087 | 0.16      | 0.84      | 3         | 238       | 6         | 0         | 0         | 0.8916392 | \n",
       "| 8364 | 0.12      | 0.59      | 3         | 229       | 6         | 0         | 0         | 0.8909121 | \n",
       "| 4052 | 0.15      | 0.89      | 3         | 219       | 6         | 0         | 0         | 0.8908140 | \n",
       "| 9867 | 0.12      | 0.81      | 4         | 287       | 6         | 0         | 0         | 0.8880859 | \n",
       "| 11411 | 0.17      | 0.78      | 3         | 239       | 6         | 0         | 0         | 0.8852335 | \n",
       "| 4224 | 0.16      | 0.51      | 3         | 262       | 6         | 0         | 0         | 0.8841119 | \n",
       "| 2575 | 0.26      | 0.67      | 2         | 242       | 6         | 0         | 0         | 0.8823159 | \n",
       "| 8750 | 0.15      | 0.84      | 3         | 201       | 6         | 0         | 0         | 0.8813995 | \n",
       "| 5968 | 0.18      | 0.39      | 2         | 177       | 6         | 0         | 0         | 0.8735435 | \n",
       "| 10955 | 0.16      | 0.94      | 4         | 261       | 6         | 0         | 0         | 0.8682841 | \n",
       "| 4270 | 0.21      | 0.72      | 3         | 245       | 6         | 0         | 0         | 0.8679254 | \n",
       "| 4699 | 0.16      | 0.78      | 4         | 280       | 6         | 0         | 0         | 0.8672735 | \n",
       "| 9220 | 0.24      | 0.60      | 2         | 194       | 6         | 0         | 0         | 0.8669126 | \n",
       "| 7821 | 0.12      | 0.84      | 4         | 218       | 6         | 0         | 0         | 0.8612096 | \n",
       "| 5652 | 0.15      | 0.76      | 4         | 255       | 6         | 0         | 0         | 0.8594270 | \n",
       "| 10863 | 0.20      | 0.98      | 3         | 180       | 6         | 0         | 0         | 0.8588882 | \n",
       "| 11995 | 0.22      | 0.94      | 3         | 193       | 6         | 0         | 0         | 0.8530563 | \n",
       "| 7206 | 0.13      | 0.65      | 2         | 209       | 5         | 0         | 0         | 0.8528230 | \n",
       "| 5869 | 0.18      | 0.95      | 4         | 241       | 6         | 0         | 0         | 0.8505485 | \n",
       "| 3560 | 0.15      | 0.52      | 4         | 265       | 6         | 0         | 0         | 0.8490696 | \n",
       "| 4348 | 0.14      | 0.51      | 4         | 253       | 6         | 0         | 0         | 0.8474881 | \n",
       "| 2569 | 0.21      | 0.90      | 4         | 271       | 6         | 0         | 0         | 0.8471887 | \n",
       "| 9879 | 0.23      | 0.50      | 2         | 150       | 6         | 0         | 0         | 0.8449015 | \n",
       "| 2367 | 0.22      | 0.74      | 3         | 199       | 6         | 0         | 0         | 0.8429839 | \n",
       "| 10653 | 0.19      | 0.63      | 4         | 278       | 6         | 0         | 0         | 0.8428179 | \n",
       "| 6715 | 0.19      | 0.69      | 4         | 269       | 6         | 0         | 0         | 0.8423149 | \n",
       "| 7800 | 0.17      | 0.50      | 4         | 274       | 6         | 0         | 0         | 0.8422366 | \n",
       "| ... | ... | ... | ... | ... | ... | ... | ... | ... | \n",
       "| 10281 | 0.83        | 0.67        | 5           | 132         | 2           | 1           | 0           | 0.003630132 | \n",
       "| 4310 | 0.89        | 0.71        | 5           | 182         | 2           | 1           | 0           | 0.003559914 | \n",
       "| 7699 | 0.96        | 0.60        | 4           | 170         | 2           | 1           | 0           | 0.003528696 | \n",
       "| 9072 | 0.96        | 0.74        | 5           | 244         | 2           | 1           | 0           | 0.003498713 | \n",
       "| 2695 | 0.98        | 0.53        | 4           | 192         | 2           | 1           | 0           | 0.003430276 | \n",
       "| 11108 | 0.87        | 0.60        | 5           | 165         | 2           | 1           | 0           | 0.003408942 | \n",
       "| 9930 | 0.92        | 0.58        | 5           | 205         | 2           | 1           | 0           | 0.003244700 | \n",
       "| 8529 | 0.98        | 0.62        | 5           | 260         | 2           | 1           | 0           | 0.003242491 | \n",
       "| 6709 | 0.79        | 0.97        | 6           | 113         | 2           | 1           | 0           | 0.003198188 | \n",
       "| 11931 | 0.97        | 0.92        | 6           | 137         | 3           | 1           | 0           | 0.003190068 | \n",
       "| 3032 | 0.98        | 0.80        | 4           | 134         | 2           | 1           | 0           | 0.003157028 | \n",
       "| 4477 | 0.86        | 0.60        | 5           | 134         | 2           | 1           | 0           | 0.003150373 | \n",
       "| 4267 | 0.92        | 0.56        | 5           | 197         | 2           | 1           | 0           | 0.003116751 | \n",
       "| 3714 | 0.98        | 0.77        | 5           | 223         | 2           | 1           | 0           | 0.003041030 | \n",
       "| 3790 | 0.99        | 0.62        | 4           | 140         | 2           | 1           | 0           | 0.002839699 | \n",
       "| 8565 | 0.99        | 0.64        | 4           | 135         | 2           | 1           | 0           | 0.002814799 | \n",
       "| 8470 | 0.92        | 0.49        | 5           | 178         | 2           | 1           | 0           | 0.002800797 | \n",
       "| 5645 | 0.97        | 0.70        | 5           | 195         | 2           | 1           | 0           | 0.002743947 | \n",
       "| 4189 | 0.96        | 0.70        | 5           | 184         | 2           | 1           | 0           | 0.002734493 | \n",
       "| 9866 | 0.96        | 0.51        | 5           | 205         | 2           | 1           | 0           | 0.002690207 | \n",
       "| 8310 | 0.97        | 0.63        | 5           | 199         | 2           | 1           | 0           | 0.002689297 | \n",
       "| 5510 | 0.96        | 0.93        | 5           | 141         | 2           | 1           | 0           | 0.002610054 | \n",
       "| 7849 | 0.94        | 0.73        | 5           | 142         | 2           | 1           | 0           | 0.002556540 | \n",
       "| 10812 | 0.97        | 0.93        | 5           | 137         | 2           | 1           | 0           | 0.002474918 | \n",
       "| 10183 | 0.91        | 0.70        | 6           | 201         | 2           | 1           | 0           | 0.002464934 | \n",
       "| 4446 | 0.91        | 0.91        | 6           | 167         | 2           | 1           | 0           | 0.002409667 | \n",
       "| 9631 | 0.95        | 0.65        | 5           | 142         | 2           | 1           | 0           | 0.002363947 | \n",
       "| 2387 | 0.84        | 0.51        | 6           | 141         | 2           | 1           | 0           | 0.002331624 | \n",
       "| 2898 | 0.97        | 0.58        | 5           | 156         | 2           | 1           | 0           | 0.002229570 | \n",
       "| 2280 | 0.96        | 0.45        | 6           | 232         | 2           | 1           | 0           | 0.002019801 | \n",
       "\n",
       "\n"
      ],
      "text/plain": [
       "      S    LPE  NP  ANH TIC Newborn left prob_compra\n",
       "5656  0.17 0.86 3   286 6   0       0    0.9056081  \n",
       "9417  0.13 0.62 3   264 6   0       0    0.9010994  \n",
       "9418  0.14 0.89 3   212 6   0       0    0.8919444  \n",
       "4087  0.16 0.84 3   238 6   0       0    0.8916392  \n",
       "8364  0.12 0.59 3   229 6   0       0    0.8909121  \n",
       "4052  0.15 0.89 3   219 6   0       0    0.8908140  \n",
       "9867  0.12 0.81 4   287 6   0       0    0.8880859  \n",
       "11411 0.17 0.78 3   239 6   0       0    0.8852335  \n",
       "4224  0.16 0.51 3   262 6   0       0    0.8841119  \n",
       "2575  0.26 0.67 2   242 6   0       0    0.8823159  \n",
       "8750  0.15 0.84 3   201 6   0       0    0.8813995  \n",
       "5968  0.18 0.39 2   177 6   0       0    0.8735435  \n",
       "10955 0.16 0.94 4   261 6   0       0    0.8682841  \n",
       "4270  0.21 0.72 3   245 6   0       0    0.8679254  \n",
       "4699  0.16 0.78 4   280 6   0       0    0.8672735  \n",
       "9220  0.24 0.60 2   194 6   0       0    0.8669126  \n",
       "7821  0.12 0.84 4   218 6   0       0    0.8612096  \n",
       "5652  0.15 0.76 4   255 6   0       0    0.8594270  \n",
       "10863 0.20 0.98 3   180 6   0       0    0.8588882  \n",
       "11995 0.22 0.94 3   193 6   0       0    0.8530563  \n",
       "7206  0.13 0.65 2   209 5   0       0    0.8528230  \n",
       "5869  0.18 0.95 4   241 6   0       0    0.8505485  \n",
       "3560  0.15 0.52 4   265 6   0       0    0.8490696  \n",
       "4348  0.14 0.51 4   253 6   0       0    0.8474881  \n",
       "2569  0.21 0.90 4   271 6   0       0    0.8471887  \n",
       "9879  0.23 0.50 2   150 6   0       0    0.8449015  \n",
       "2367  0.22 0.74 3   199 6   0       0    0.8429839  \n",
       "10653 0.19 0.63 4   278 6   0       0    0.8428179  \n",
       "6715  0.19 0.69 4   269 6   0       0    0.8423149  \n",
       "7800  0.17 0.50 4   274 6   0       0    0.8422366  \n",
       "...   ...  ...  ... ... ... ...     ...  ...        \n",
       "10281 0.83 0.67 5   132 2   1       0    0.003630132\n",
       "4310  0.89 0.71 5   182 2   1       0    0.003559914\n",
       "7699  0.96 0.60 4   170 2   1       0    0.003528696\n",
       "9072  0.96 0.74 5   244 2   1       0    0.003498713\n",
       "2695  0.98 0.53 4   192 2   1       0    0.003430276\n",
       "11108 0.87 0.60 5   165 2   1       0    0.003408942\n",
       "9930  0.92 0.58 5   205 2   1       0    0.003244700\n",
       "8529  0.98 0.62 5   260 2   1       0    0.003242491\n",
       "6709  0.79 0.97 6   113 2   1       0    0.003198188\n",
       "11931 0.97 0.92 6   137 3   1       0    0.003190068\n",
       "3032  0.98 0.80 4   134 2   1       0    0.003157028\n",
       "4477  0.86 0.60 5   134 2   1       0    0.003150373\n",
       "4267  0.92 0.56 5   197 2   1       0    0.003116751\n",
       "3714  0.98 0.77 5   223 2   1       0    0.003041030\n",
       "3790  0.99 0.62 4   140 2   1       0    0.002839699\n",
       "8565  0.99 0.64 4   135 2   1       0    0.002814799\n",
       "8470  0.92 0.49 5   178 2   1       0    0.002800797\n",
       "5645  0.97 0.70 5   195 2   1       0    0.002743947\n",
       "4189  0.96 0.70 5   184 2   1       0    0.002734493\n",
       "9866  0.96 0.51 5   205 2   1       0    0.002690207\n",
       "8310  0.97 0.63 5   199 2   1       0    0.002689297\n",
       "5510  0.96 0.93 5   141 2   1       0    0.002610054\n",
       "7849  0.94 0.73 5   142 2   1       0    0.002556540\n",
       "10812 0.97 0.93 5   137 2   1       0    0.002474918\n",
       "10183 0.91 0.70 6   201 2   1       0    0.002464934\n",
       "4446  0.91 0.91 6   167 2   1       0    0.002409667\n",
       "9631  0.95 0.65 5   142 2   1       0    0.002363947\n",
       "2387  0.84 0.51 6   141 2   1       0    0.002331624\n",
       "2898  0.97 0.58 5   156 2   1       0    0.002229570\n",
       "2280  0.96 0.45 6   232 2   1       0    0.002019801"
      ]
     },
     "metadata": {},
     "output_type": "display_data"
    }
   ],
   "source": [
    "dat$prob_compra <- predict(reg, dat, type=\"response\")\n",
    "dat[order(-dat$prob_compra),]"
   ]
  },
  {
   "cell_type": "markdown",
   "metadata": {},
   "source": [
    "Dividimos el conjunto de datos en dos subconjuntos, un subconjunto de entrenamiento que tendrá el 70% de los datos y el segundo subconjunto que tendrá al resto de los datos, con estos dos conjunto podremos evaluar de manera correcta la calidad del modelo ya creado."
   ]
  },
  {
   "cell_type": "code",
   "execution_count": 6,
   "metadata": {},
   "outputs": [],
   "source": [
    "n <- nrow(dat)\n",
    "n_train <- as.integer(0.7*n)\n",
    "indx <- sample(1:n,n_train)\n",
    "train <- dat[indx,]\n",
    "test <- dat[-indx,]"
   ]
  },
  {
   "cell_type": "markdown",
   "metadata": {},
   "source": [
    "Para validadr la calidad del modelo utilizamos la técnica de validación cruzada. Creamos el primer modelo, que será un modelo nulo. Este es independiente de todos los predictores y utilizamos el conjunto de entrenamiento para ajustar al modelo logístico y también guardamos los valores predichos por el modelo en los datos de prueba y midiendo el error sobre el conjunto de prueba. Luego seguimos aplicando el mismo método pero agregando predictores en cada modelo, utilizando los predictores que nos generan la mayor disminución del error respecto al modelo nulo."
   ]
  },
  {
   "cell_type": "code",
   "execution_count": 7,
   "metadata": {},
   "outputs": [
    {
     "data": {
      "text/html": [
       "0.276101587301584"
      ],
      "text/latex": [
       "0.276101587301584"
      ],
      "text/markdown": [
       "0.276101587301584"
      ],
      "text/plain": [
       "[1] 0.2761016"
      ]
     },
     "metadata": {},
     "output_type": "display_data"
    }
   ],
   "source": [
    "err <- c()\n",
    "m0 <- glm(left ~ 1, data = train) \n",
    "pred <- predict(m0,test) \n",
    "err0 <- sum(abs(test$left-pred))/nrow(test)\n",
    "err <- c(err,err0)\n",
    "err"
   ]
  },
  {
   "cell_type": "code",
   "execution_count": 8,
   "metadata": {},
   "outputs": [
    {
     "data": {
      "text/html": [
       "<ol class=list-inline>\n",
       "\t<li>0.276101587301584</li>\n",
       "\t<li>0.24661317885934</li>\n",
       "</ol>\n"
      ],
      "text/latex": [
       "\\begin{enumerate*}\n",
       "\\item 0.276101587301584\n",
       "\\item 0.24661317885934\n",
       "\\end{enumerate*}\n"
      ],
      "text/markdown": [
       "1. 0.276101587301584\n",
       "2. 0.24661317885934\n",
       "\n",
       "\n"
      ],
      "text/plain": [
       "[1] 0.2761016 0.2466132"
      ]
     },
     "metadata": {},
     "output_type": "display_data"
    }
   ],
   "source": [
    "m1 <- glm(left ~ S, data = train) \n",
    "pred <- predict(m1,test) \n",
    "err1 <- sum(abs(test$left-pred))/nrow(test)\n",
    "err <- c(err,err1)\n",
    "err"
   ]
  },
  {
   "cell_type": "code",
   "execution_count": 9,
   "metadata": {},
   "outputs": [
    {
     "data": {
      "text/html": [
       "<ol class=list-inline>\n",
       "\t<li>0.276101587301584</li>\n",
       "\t<li>0.24661317885934</li>\n",
       "\t<li>0.246442667807142</li>\n",
       "</ol>\n"
      ],
      "text/latex": [
       "\\begin{enumerate*}\n",
       "\\item 0.276101587301584\n",
       "\\item 0.24661317885934\n",
       "\\item 0.246442667807142\n",
       "\\end{enumerate*}\n"
      ],
      "text/markdown": [
       "1. 0.276101587301584\n",
       "2. 0.24661317885934\n",
       "3. 0.246442667807142\n",
       "\n",
       "\n"
      ],
      "text/plain": [
       "[1] 0.2761016 0.2466132 0.2464427"
      ]
     },
     "metadata": {},
     "output_type": "display_data"
    }
   ],
   "source": [
    "m2 <- glm(left ~ S + LPE, data = train) \n",
    "pred <- predict(m2,test) \n",
    "err2 <- sum(abs(test$left-pred))/nrow(test)\n",
    "err <- c(err,err2)\n",
    "err"
   ]
  },
  {
   "cell_type": "code",
   "execution_count": 10,
   "metadata": {},
   "outputs": [
    {
     "data": {
      "text/html": [
       "<ol class=list-inline>\n",
       "\t<li>0.276101587301584</li>\n",
       "\t<li>0.24661317885934</li>\n",
       "\t<li>0.246442667807142</li>\n",
       "\t<li>0.24799614099406</li>\n",
       "</ol>\n"
      ],
      "text/latex": [
       "\\begin{enumerate*}\n",
       "\\item 0.276101587301584\n",
       "\\item 0.24661317885934\n",
       "\\item 0.246442667807142\n",
       "\\item 0.24799614099406\n",
       "\\end{enumerate*}\n"
      ],
      "text/markdown": [
       "1. 0.276101587301584\n",
       "2. 0.24661317885934\n",
       "3. 0.246442667807142\n",
       "4. 0.24799614099406\n",
       "\n",
       "\n"
      ],
      "text/plain": [
       "[1] 0.2761016 0.2466132 0.2464427 0.2479961"
      ]
     },
     "metadata": {},
     "output_type": "display_data"
    }
   ],
   "source": [
    "m3 <- glm(left ~ S+LPE+NP, data = train) \n",
    "pred <- predict(m3,test) \n",
    "err3 <- sum(abs(test$left-pred))/nrow(test)\n",
    "err <- c(err,err3)\n",
    "err"
   ]
  },
  {
   "cell_type": "code",
   "execution_count": 11,
   "metadata": {
    "scrolled": true
   },
   "outputs": [
    {
     "data": {
      "text/html": [
       "<ol class=list-inline>\n",
       "\t<li>0.276101587301584</li>\n",
       "\t<li>0.24661317885934</li>\n",
       "\t<li>0.246442667807142</li>\n",
       "\t<li>0.24799614099406</li>\n",
       "\t<li>0.248751962080184</li>\n",
       "</ol>\n"
      ],
      "text/latex": [
       "\\begin{enumerate*}\n",
       "\\item 0.276101587301584\n",
       "\\item 0.24661317885934\n",
       "\\item 0.246442667807142\n",
       "\\item 0.24799614099406\n",
       "\\item 0.248751962080184\n",
       "\\end{enumerate*}\n"
      ],
      "text/markdown": [
       "1. 0.276101587301584\n",
       "2. 0.24661317885934\n",
       "3. 0.246442667807142\n",
       "4. 0.24799614099406\n",
       "5. 0.248751962080184\n",
       "\n",
       "\n"
      ],
      "text/plain": [
       "[1] 0.2761016 0.2466132 0.2464427 0.2479961 0.2487520"
      ]
     },
     "metadata": {},
     "output_type": "display_data"
    }
   ],
   "source": [
    "m4<- glm(left ~ S+LPE+NP+ANH, data = train) \n",
    "pred <- predict(m4,test) \n",
    "err4 <- sum(abs(test$left-pred))/nrow(test)\n",
    "err <- c(err,err4)\n",
    "err"
   ]
  },
  {
   "cell_type": "code",
   "execution_count": 12,
   "metadata": {},
   "outputs": [
    {
     "data": {
      "text/html": [
       "<ol class=list-inline>\n",
       "\t<li>0.276101587301584</li>\n",
       "\t<li>0.24661317885934</li>\n",
       "\t<li>0.246442667807142</li>\n",
       "\t<li>0.24799614099406</li>\n",
       "\t<li>0.248751962080184</li>\n",
       "\t<li>0.244883535809509</li>\n",
       "</ol>\n"
      ],
      "text/latex": [
       "\\begin{enumerate*}\n",
       "\\item 0.276101587301584\n",
       "\\item 0.24661317885934\n",
       "\\item 0.246442667807142\n",
       "\\item 0.24799614099406\n",
       "\\item 0.248751962080184\n",
       "\\item 0.244883535809509\n",
       "\\end{enumerate*}\n"
      ],
      "text/markdown": [
       "1. 0.276101587301584\n",
       "2. 0.24661317885934\n",
       "3. 0.246442667807142\n",
       "4. 0.24799614099406\n",
       "5. 0.248751962080184\n",
       "6. 0.244883535809509\n",
       "\n",
       "\n"
      ],
      "text/plain": [
       "[1] 0.2761016 0.2466132 0.2464427 0.2479961 0.2487520 0.2448835"
      ]
     },
     "metadata": {},
     "output_type": "display_data"
    }
   ],
   "source": [
    "m5<- glm(left ~ S+LPE+NP+ANH+TIC, data = train) \n",
    "pred <- predict(m5,test) \n",
    "err5 <- sum(abs(test$left-pred))/nrow(test)\n",
    "err <- c(err,err5)\n",
    "err"
   ]
  },
  {
   "cell_type": "code",
   "execution_count": 13,
   "metadata": {},
   "outputs": [
    {
     "data": {
      "text/html": [
       "<ol class=list-inline>\n",
       "\t<li>0.276101587301584</li>\n",
       "\t<li>0.24661317885934</li>\n",
       "\t<li>0.246442667807142</li>\n",
       "\t<li>0.24799614099406</li>\n",
       "\t<li>0.248751962080184</li>\n",
       "\t<li>0.244883535809509</li>\n",
       "\t<li>0.244717861833503</li>\n",
       "</ol>\n"
      ],
      "text/latex": [
       "\\begin{enumerate*}\n",
       "\\item 0.276101587301584\n",
       "\\item 0.24661317885934\n",
       "\\item 0.246442667807142\n",
       "\\item 0.24799614099406\n",
       "\\item 0.248751962080184\n",
       "\\item 0.244883535809509\n",
       "\\item 0.244717861833503\n",
       "\\end{enumerate*}\n"
      ],
      "text/markdown": [
       "1. 0.276101587301584\n",
       "2. 0.24661317885934\n",
       "3. 0.246442667807142\n",
       "4. 0.24799614099406\n",
       "5. 0.248751962080184\n",
       "6. 0.244883535809509\n",
       "7. 0.244717861833503\n",
       "\n",
       "\n"
      ],
      "text/plain": [
       "[1] 0.2761016 0.2466132 0.2464427 0.2479961 0.2487520 0.2448835 0.2447179"
      ]
     },
     "metadata": {},
     "output_type": "display_data"
    }
   ],
   "source": [
    "m6<- glm(left ~ S+LPE+NP+ANH+TIC+Newborn, data = train) \n",
    "pred <- predict(m6,test) \n",
    "err6 <- sum(abs(test$left-pred))/nrow(test)\n",
    "err <- c(err,err6)\n",
    "err"
   ]
  },
  {
   "cell_type": "markdown",
   "metadata": {},
   "source": [
    "Como podemos observar, en el modelo número dos es el que más presenta una disminución del error respecto al modelo anterior, por lo que el modelo número dos sería el mejor modelo, con los predictores S y LPE. Y finalmente evaluamos el error de generalización, y nos da como resultado 2.35 el cual se puede considerar un valor bajo."
   ]
  },
  {
   "cell_type": "code",
   "execution_count": 14,
   "metadata": {},
   "outputs": [
    {
     "data": {
      "text/html": [
       "2.3501102960296"
      ],
      "text/latex": [
       "2.3501102960296"
      ],
      "text/markdown": [
       "2.3501102960296"
      ],
      "text/plain": [
       "[1] 2.35011"
      ]
     },
     "metadata": {},
     "output_type": "display_data"
    }
   ],
   "source": [
    "p <- predict(reg, test)\n",
    "err <- sum(abs(test$left-p))/nrow(test)\n",
    "err"
   ]
  }
 ],
 "metadata": {
  "kernelspec": {
   "display_name": "R",
   "language": "R",
   "name": "ir"
  },
  "language_info": {
   "codemirror_mode": "r",
   "file_extension": ".r",
   "mimetype": "text/x-r-source",
   "name": "R",
   "pygments_lexer": "r",
   "version": "3.5.1"
  }
 },
 "nbformat": 4,
 "nbformat_minor": 2
}
